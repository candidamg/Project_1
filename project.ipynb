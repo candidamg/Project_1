{
 "cells": [
  {
   "cell_type": "code",
   "execution_count": 2,
   "metadata": {},
   "outputs": [],
   "source": [
    "import pandas as pd\n",
    "import requests\n",
    "import json\n",
    "\n",
    "from api_key import steam_key\n",
    "\n",
    "from api_key import rawg_key #pending if using or not\n",
    "\n",
    "#Turn off warning messages\n",
    "import warnings\n",
    "warnings.filterwarnings('ignore')"
   ]
  },
  {
   "cell_type": "code",
   "execution_count": 3,
   "metadata": {},
   "outputs": [
    {
     "name": "stdout",
     "output_type": "stream",
     "text": [
      " http://api.steampowered.com/IPlayerService/GetOwnedGames/v0001/?key=7AA1B4CB622764C773C61C79026D03A1&steamid=76561197960434622\n"
     ]
    }
   ],
   "source": [
    " #getting url- -RAWG GAMES\n",
    "base_url = 'https://api.rawg.io/api' \n",
    "\n",
    "#build partial query url\n",
    "query_url = f'{base_url}/platforms/lists/parents?key={rawg_key}'\n",
    "\n",
    "print(query_url)\n",
    "\n",
    "# #run request\n",
    "# response = requests.get(base_url).json()\n",
    "\n",
    "# #json 'pretty print'\n",
    "# print(json.dumps(response, indent =5, sort_keys=True))"
   ]
  },
  {
   "cell_type": "code",
   "execution_count": null,
   "metadata": {},
   "outputs": [],
   "source": []
  }
 ],
 "metadata": {
  "kernelspec": {
   "display_name": "base",
   "language": "python",
   "name": "python3"
  },
  "language_info": {
   "codemirror_mode": {
    "name": "ipython",
    "version": 3
   },
   "file_extension": ".py",
   "mimetype": "text/x-python",
   "name": "python",
   "nbconvert_exporter": "python",
   "pygments_lexer": "ipython3",
   "version": "3.9.13"
  },
  "orig_nbformat": 4,
  "vscode": {
   "interpreter": {
    "hash": "571322e3362e381c10366c08ed622b08f5543fcae0b301d31db0bc3ebba387fb"
   }
  }
 },
 "nbformat": 4,
 "nbformat_minor": 2
}
